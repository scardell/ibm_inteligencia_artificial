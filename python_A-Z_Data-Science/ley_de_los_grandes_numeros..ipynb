{
 "cells": [
  {
   "cell_type": "code",
   "execution_count": 2,
   "metadata": {},
   "outputs": [],
   "source": [
    "import numpy as np\n",
    "from numpy.random import randn\n"
   ]
  },
  {
   "cell_type": "code",
   "execution_count": 9,
   "metadata": {},
   "outputs": [
    {
     "name": "stdout",
     "output_type": "stream",
     "text": [
      "0.697\n"
     ]
    }
   ],
   "source": [
    "N = 1000  #especifica el numero de datos o tamao de la muestra\n",
    "contador = 0  #inicializa el contador\n",
    "for i in randn(N):  #itera sobre los valores generados aleatoriamente\n",
    "\tif i > -1 and i < 1:  #condicion para saber si el valor esta dentro del rango\n",
    "\t\tcontador += 1  #suma 1 al contador si la condicion se cumple\n",
    "respuesta = contador / N  #calcula el ratio de los valores que cumplen la condicion\n",
    "print(respuesta)  #imprime el ratio"
   ]
  }
 ],
 "metadata": {
  "kernelspec": {
   "display_name": "Python 3",
   "language": "python",
   "name": "python3"
  },
  "language_info": {
   "codemirror_mode": {
    "name": "ipython",
    "version": 3
   },
   "file_extension": ".py",
   "mimetype": "text/x-python",
   "name": "python",
   "nbconvert_exporter": "python",
   "pygments_lexer": "ipython3",
   "version": "3.12.6"
  }
 },
 "nbformat": 4,
 "nbformat_minor": 2
}

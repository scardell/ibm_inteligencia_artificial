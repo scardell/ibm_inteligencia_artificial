{
 "cells": [
  {
   "cell_type": "code",
   "execution_count": 18,
   "metadata": {},
   "outputs": [],
   "source": [
    "#Datos\n",
    "ingresos = [14574.49, 7606.46, 8611.41, 9175.41, 8058.65, 8105.44, 11496.28, 9766.09, 10305.32, 14379.96, 10713.97, 15433.50]\n",
    "gastos = [12051.82, 5695.07, 12319.20, 12089.72, 8658.57, 840.20, 3285.73, 5821.12, 6976.93, 16618.61, 10054.37, 3803.96]"
   ]
  },
  {
   "cell_type": "code",
   "execution_count": null,
   "metadata": {},
   "outputs": [],
   "source": [
    "#Respuesta\n",
    "#Calcular la Utilidad como la diferencia entre los Ingresos y los Gastos\n",
    "utilidad = []\n",
    "\n",
    "for i in range (0, len(ingresos)):\n",
    "    utilidad.append(ingresos[i] - gastos[i])\n",
    "utilidad"
   ]
  },
  {
   "cell_type": "code",
   "execution_count": null,
   "metadata": {},
   "outputs": [],
   "source": [
    "#Calcular el impuesto como el 30% de la utilidad y redondea a 2 puntos decimales\n",
    "impuesto = [round(i * 0.3, 2) for i in utilidad]\n",
    "impuesto"
   ]
  },
  {
   "cell_type": "code",
   "execution_count": null,
   "metadata": {},
   "outputs": [],
   "source": [
    "#Calcular la Utilidad después de restarle el impuesto\n",
    "utilidad_despues_de_impuestos = []\n",
    "for i in range (0, len(impuesto)):\n",
    "    utilidad_despues_de_impuestos.append(utilidad[i] - impuesto[i])\n",
    "utilidad_despues_de_impuestos"
   ]
  },
  {
   "cell_type": "code",
   "execution_count": null,
   "metadata": {},
   "outputs": [],
   "source": [
    "#Calcular el margen de Utilidad como la Utilidad Después de Impuestos sobre los Ingresos\n",
    "#Redondea a 2 puntos decimales, luego multiplica por 100 para obtener el %\n",
    "margen_de_utilidad = []\n",
    "for i in range (0, len(utilidad_despues_de_impuestos)):\n",
    "    margen_de_utilidad.append(utilidad_despues_de_impuestos[i] / ingresos[i])\n",
    "margen_de_utilidad\n",
    "\n",
    "margen_de_utilidad = [round((i),2) for i in margen_de_utilidad]\n",
    "\n",
    "margen_de_utilidad"
   ]
  },
  {
   "cell_type": "code",
   "execution_count": null,
   "metadata": {},
   "outputs": [],
   "source": [
    "#Calcula el promedio de la Utilidad Después de Impuestos (UDI) para los últimos 12 meses\n",
    "promedio_udi = sum(utilidad_despues_de_impuestos) / len(utilidad_despues_de_impuestos)\n",
    "promedio_udi"
   ]
  },
  {
   "cell_type": "code",
   "execution_count": null,
   "metadata": {},
   "outputs": [],
   "source": [
    "#Encuentra los meses con Utilidad por encima del promedio de la Utilidad Después de Ïmpuestos promedio \n",
    "meses_buenos = []\n",
    "for i in range (0, len(utilidad_despues_de_impuestos)):\n",
    "    meses_buenos.append(utilidad_despues_de_impuestos[i] > promedio_udi)\n",
    "meses_buenos"
   ]
  },
  {
   "cell_type": "code",
   "execution_count": null,
   "metadata": {},
   "outputs": [],
   "source": [
    "#Los Meses Malos son lo opuesto a los Meses Buenos!\n",
    "meses_malos = []\n",
    "for i in range (0, len(meses_buenos)):\n",
    "    meses_malos.append(not (meses_buenos[i]))\n",
    "meses_malos"
   ]
  },
  {
   "cell_type": "code",
   "execution_count": null,
   "metadata": {},
   "outputs": [],
   "source": [
    "#El Mejor Mes es donde la Utilidad Después de Impuestos fue igual al máximo \n",
    "mejor_mes = []\n",
    "for i in range (0, len(utilidad_despues_de_impuestos)):\n",
    "    mejor_mes.append(utilidad_despues_de_impuestos[i] == max(utilidad_despues_de_impuestos))\n",
    "mejor_mes"
   ]
  },
  {
   "cell_type": "code",
   "execution_count": null,
   "metadata": {},
   "outputs": [],
   "source": [
    "#El Peor Mes es donde la Utilidad Después de Impuestos fue igual al mínimo \n",
    "peor_mes = []\n",
    "for i in range (0, len(utilidad_despues_de_impuestos)):\n",
    "    peor_mes.append(utilidad_despues_de_impuestos[i] == min(utilidad_despues_de_impuestos))\n",
    "peor_mes"
   ]
  },
  {
   "cell_type": "code",
   "execution_count": 33,
   "metadata": {},
   "outputs": [],
   "source": [
    "#Convierte todos los cálculos a unidades de miles de dólares\n",
    "ingresos_1000 = [round(i, 0) for i in ingresos]\n",
    "gastos_1000 = [round(i, 0) for i in gastos]\n",
    "utilidad_1000 = [round(i, 0) for i in utilidad]\n",
    "utilidad_despues_de_impuestos_1000 = [round(i, 0) for i in utilidad_despues_de_impuestos]\n",
    "\n",
    "ingresos_1000 = [int(i) for i in ingresos_1000]\n",
    "gastos_1000 = [int(i) for i in gastos_1000]\n",
    "utilidad_1000 = [int(i) for i in utilidad_1000]\n",
    "utilidad_despues_de_impuestos_1000 = [int(i) for i in utilidad_despues_de_impuestos_1000]"
   ]
  },
  {
   "cell_type": "code",
   "execution_count": null,
   "metadata": {},
   "outputs": [],
   "source": [
    "#Imprime los Resultados\n",
    "print (\"Ingresos :\") \n",
    "print (ingresos_1000)\n",
    "print (\"Gastos :\") \n",
    "print (gastos_1000)\n",
    "print (\"Utilidad :\")\n",
    "print (utilidad_1000)\n",
    "print (\"Utilidad Después de Impuestos :\")\n",
    "print (utilidad_despues_de_impuestos_1000)\n",
    "print (\"Margen de utilidad :\")\n",
    "print (margen_de_utilidad)\n",
    "print (\"Buenos meses :\")\n",
    "print (meses_buenos)\n",
    "print (\"Meses malos :\")\n",
    "print (meses_malos)\n",
    "print (\"Mejor mes :\")\n",
    "print (mejor_mes)\n",
    "print (\"Peor mes :\")\n",
    "print (peor_mes)"
   ]
  }
 ],
 "metadata": {
  "kernelspec": {
   "display_name": "Python 3",
   "language": "python",
   "name": "python3"
  },
  "language_info": {
   "codemirror_mode": {
    "name": "ipython",
    "version": 3
   },
   "file_extension": ".py",
   "mimetype": "text/x-python",
   "name": "python",
   "nbconvert_exporter": "python",
   "pygments_lexer": "ipython3",
   "version": "3.12.6"
  }
 },
 "nbformat": 4,
 "nbformat_minor": 2
}

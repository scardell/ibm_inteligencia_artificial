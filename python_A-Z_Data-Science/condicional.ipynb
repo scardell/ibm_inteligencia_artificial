{
 "cells": [
  {
   "cell_type": "code",
   "execution_count": null,
   "metadata": {},
   "outputs": [],
   "source": [
    "# ---- -2 ---- -1 ---- 0 ---- 1 ---- 2 ----"
   ]
  },
  {
   "cell_type": "code",
   "execution_count": 3,
   "metadata": {},
   "outputs": [],
   "source": [
    "import numpy as np\n",
    "from numpy.random import randn"
   ]
  },
  {
   "cell_type": "code",
   "execution_count": null,
   "metadata": {},
   "outputs": [],
   "source": [
    "help(randn)\n",
    "randn()"
   ]
  },
  {
   "cell_type": "code",
   "execution_count": null,
   "metadata": {},
   "outputs": [],
   "source": [
    "# ---- -2 ---- -1 ---- 0 ---- 1 ---- 2 ----\n",
    "x = randn()\n",
    "respuesta = None\n",
    "if x > 1:\n",
    "\trespuesta = \"Mayor que 1\"\n",
    "print(x)\n",
    "print(respuesta)"
   ]
  },
  {
   "cell_type": "markdown",
   "metadata": {},
   "source": [
    "---"
   ]
  },
  {
   "cell_type": "code",
   "execution_count": null,
   "metadata": {},
   "outputs": [],
   "source": [
    "x = randn()\n",
    "respuesta = None\n",
    "if x > 1:\n",
    "\trespuesta = \"Mayor que 1\"\n",
    "else:\n",
    "\trespuesta = \"Menor que 1\"\n",
    "print(x)\n",
    "print(respuesta)"
   ]
  },
  {
   "cell_type": "markdown",
   "metadata": {},
   "source": [
    "---"
   ]
  },
  {
   "cell_type": "code",
   "execution_count": null,
   "metadata": {},
   "outputs": [],
   "source": [
    "# ---- -2 ---- -1 ---- 0 ---- 1 ---- 2 ----\n",
    "# condiciones anidadas\n",
    "x = randn()\n",
    "respuesta = None\n",
    "if x > 1:\n",
    "\trespuesta = \"Mayor que 1\"\n",
    "else:\n",
    "\tif x > -1:\n",
    "\t\trespuesta = \"Entre -1 y 1\"\n",
    "\telse:\n",
    "\t\trespuesta = \"Menor a -1\"\n",
    "print(x)\n",
    "print(respuesta)"
   ]
  },
  {
   "cell_type": "markdown",
   "metadata": {},
   "source": [
    "---"
   ]
  },
  {
   "cell_type": "code",
   "execution_count": null,
   "metadata": {},
   "outputs": [],
   "source": [
    "# ---- -2 ---- -1 ---- 0 ---- 1 ---- 2 ----\n",
    "# condiciones encadenadas\n",
    "x = randn()\n",
    "respuesta = None\n",
    "if x > 1:\n",
    "\trespuesta = \"Mayor que 1\"\n",
    "elif x > -1:\n",
    "\trespuesta = \"Entre -1 y 1\"\n",
    "else:\n",
    "\trespuesta = \"Menor a -1\"\t\n",
    "print(x)\n",
    "print(respuesta)"
   ]
  }
 ],
 "metadata": {
  "kernelspec": {
   "display_name": "Python 3",
   "language": "python",
   "name": "python3"
  },
  "language_info": {
   "codemirror_mode": {
    "name": "ipython",
    "version": 3
   },
   "file_extension": ".py",
   "mimetype": "text/x-python",
   "name": "python",
   "nbconvert_exporter": "python",
   "pygments_lexer": "ipython3",
   "version": "3.12.6"
  }
 },
 "nbformat": 4,
 "nbformat_minor": 2
}
